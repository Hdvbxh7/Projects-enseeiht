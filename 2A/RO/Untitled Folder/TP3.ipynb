{
 "cells": [
  {
   "cell_type": "markdown",
   "id": "8996a42d",
   "metadata": {},
   "source": [
    "# Programme Calcul de la matrice #"
   ]
  },
  {
   "cell_type": "code",
   "execution_count": 175,
   "id": "70a103f2",
   "metadata": {},
   "outputs": [
    {
     "data": {
      "text/plain": [
       "addtab (generic function with 3 methods)"
      ]
     },
     "execution_count": 175,
     "metadata": {},
     "output_type": "execute_result"
    }
   ],
   "source": [
    "function addtab(n,L,jadd,j,i,add)\n",
    "    r=fill(0,n)\n",
    "    for z in 1:4\n",
    "        r[z] = L[jadd,i-1][z]\n",
    "    end\n",
    "    r[i-1] = 1\n",
    "    L[j,i] = r\n",
    "    return L\n",
    "end"
   ]
  },
  {
   "cell_type": "code",
   "execution_count": 176,
   "id": "0b0b6cd5",
   "metadata": {},
   "outputs": [
    {
     "data": {
      "text/plain": [
       "calcul (generic function with 1 method)"
      ]
     },
     "execution_count": 176,
     "metadata": {},
     "output_type": "execute_result"
    }
   ],
   "source": [
    "function calcul(v,w,C::Matrix{Int8})\n",
    "    I=fill(0,size(C))\n",
    "    L=fill([0,0,0,0],size(C))\n",
    "    for i in 2:(size(C,2))\n",
    "        for j in 1:(size(C,1))\n",
    "            if (j>w[i-1])\n",
    "                C[j,i] = max(C[j-w[i-1],i-1]+v[i-1],C[j,i-1])\n",
    "                if(C[j-w[i-1],i-1]+v[i-1]>C[j,i-1])\n",
    "                     I[j,i] = j-w[i-1]\n",
    "                     L=addtab(size(C,2)-1,L,j-w[i-1],j,i,1)\n",
    "                else\n",
    "                    I[j,i] = j  \n",
    "                    L[j,i] = L[j,i-1]\n",
    "                end\n",
    "            else\n",
    "                C[j,i] = C[j,i-1]\n",
    "                I[j,i] = j\n",
    "                L[j,i] = L[j,i-1]\n",
    "            end\n",
    "        end\n",
    "    end\n",
    "    return C,I,L[size(L,1),size(L,2)]\n",
    "end"
   ]
  },
  {
   "cell_type": "markdown",
   "id": "5f3ac0b2",
   "metadata": {},
   "source": [
    "**Calcul de la matrice**"
   ]
  },
  {
   "cell_type": "code",
   "execution_count": 177,
   "id": "3e14855f",
   "metadata": {},
   "outputs": [
    {
     "data": {
      "text/plain": [
       "4-element Vector{Int64}:\n",
       " 7\n",
       " 4\n",
       " 3\n",
       " 5"
      ]
     },
     "execution_count": 177,
     "metadata": {},
     "output_type": "execute_result"
    }
   ],
   "source": [
    "n = 4\n",
    "Q = 10\n",
    "C = zeros(Int8, Q+1,n+1);\n",
    "vi = [42,40,12,25]\n",
    "wi = [7,4,3,5]"
   ]
  },
  {
   "cell_type": "code",
   "execution_count": 178,
   "id": "be3b6aa3",
   "metadata": {},
   "outputs": [
    {
     "data": {
      "text/plain": [
       "11×5 Matrix{Int8}:\n",
       " 0   0   0   0   0\n",
       " 0   0   0   0   0\n",
       " 0   0   0   0   0\n",
       " 0   0   0  12  12\n",
       " 0   0  40  40  40\n",
       " 0   0  40  40  40\n",
       " 0   0  40  40  40\n",
       " 0  42  42  52  52\n",
       " 0  42  42  52  52\n",
       " 0  42  42  52  65\n",
       " 0  42  42  54  65"
      ]
     },
     "execution_count": 178,
     "metadata": {},
     "output_type": "execute_result"
    }
   ],
   "source": [
    "C,I,J = calcul(vi,wi,C)\n",
    "C"
   ]
  },
  {
   "cell_type": "markdown",
   "id": "9b074468",
   "metadata": {},
   "source": [
    "### Fonctionnement de  l'algorithme ###\n",
    "\n",
    "Pour commencer notre algorithme va créer la matrice qui va accueillir les données, qui est une matrice de 0 de taille n\\*m avec n le poids max du sac +1 (le poids nul) et m le nombre d'objet que l'ont peut mettre dans le sac + 1 (la colonne sans objet).\n",
    "\n",
    "Ensuite l'algorithme boucle sur les colonnes puis il boucle sur les lignes.\n",
    "\n",
    "Pour chaque case de la matrice, l'algorithme regarde si la place restante dans le sac est assez grande pour y déposer l'objet correspondant à l'indice de la colonne. \n",
    "\n",
    "Si c'est le cas, il regarde si le prix est supérieur par rapport au prix de la colonne précédente à poids identique. Si c'est le cas, il rajoute le prix de l'objet à la valeur de la case dont l'indice de la ligne correspond au poids disponible dans le sac moins le poids de l'objet qui correspond à l'indice de la colonne. Sinon, il prend les objets placés dans le sac au même poids dans la colonne précédente."
   ]
  },
  {
   "cell_type": "code",
   "execution_count": 179,
   "id": "ecf7947d",
   "metadata": {},
   "outputs": [
    {
     "data": {
      "text/plain": [
       "11×5 Matrix{Int64}:\n",
       " 0  1   1  1  1\n",
       " 0  2   2  2  2\n",
       " 0  3   3  3  3\n",
       " 0  4   4  1  4\n",
       " 0  5   1  5  5\n",
       " 0  6   2  6  6\n",
       " 0  7   3  7  7\n",
       " 0  1   8  5  8\n",
       " 0  2   9  6  9\n",
       " 0  3  10  7  5\n",
       " 0  4  11  8  6"
      ]
     },
     "execution_count": 179,
     "metadata": {},
     "output_type": "execute_result"
    }
   ],
   "source": [
    "I"
   ]
  },
  {
   "cell_type": "code",
   "execution_count": 181,
   "id": "5cb3dd01",
   "metadata": {},
   "outputs": [
    {
     "name": "stdout",
     "output_type": "stream",
     "text": [
      "[0, 1, 0, 1]"
     ]
    }
   ],
   "source": [
    "print(J)"
   ]
  },
  {
   "cell_type": "code",
   "execution_count": null,
   "id": "f76e6e41",
   "metadata": {},
   "outputs": [],
   "source": []
  },
  {
   "cell_type": "code",
   "execution_count": null,
   "id": "32133664",
   "metadata": {},
   "outputs": [],
   "source": []
  }
 ],
 "metadata": {
  "kernelspec": {
   "display_name": "Julia 1.8.2 - N7",
   "language": "julia",
   "name": "julia-1.8-n7"
  },
  "language_info": {
   "file_extension": ".jl",
   "mimetype": "application/julia",
   "name": "julia",
   "version": "1.8.2"
  }
 },
 "nbformat": 4,
 "nbformat_minor": 5
}
