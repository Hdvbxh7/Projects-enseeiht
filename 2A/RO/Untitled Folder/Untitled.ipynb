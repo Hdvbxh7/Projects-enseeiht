{
 "cells": [
  {
   "cell_type": "markdown",
   "id": "8996a42d",
   "metadata": {},
   "source": [
    "# Programme Calcul de la matrice #"
   ]
  },
  {
   "cell_type": "code",
   "execution_count": 143,
   "id": "70a103f2",
   "metadata": {},
   "outputs": [
    {
     "data": {
      "text/plain": [
       "calcul (generic function with 3 methods)"
      ]
     },
     "execution_count": 143,
     "metadata": {},
     "output_type": "execute_result"
    }
   ],
   "source": [
    "function calcul(v,w,C::Matrix{Int8})\n",
    "    I=fill((0,0),size(C))\n",
    "    L=fill([0,0,0,0],size(C))\n",
    "    for i in 2:(size(C,2))\n",
    "        for j in 1:(size(C,1))\n",
    "            if (j>w[i-1])\n",
    "                C[j,i] = max(C[j-w[i-1],i-1]+v[i-1],C[j,i-1])\n",
    "                if(C[j-w[i-1],i-1]+v[i-1]>C[j,i-1])\n",
    "                     I[j,i] = (j-w[i-1],i-1) \n",
    "                     L[j,i][i-1] = 1\n",
    "                     L[j,i] = L[j,i-1] + L[j,i]\n",
    "                else\n",
    "                    I[j,i] = (j,i-1)  \n",
    "                end\n",
    "            else\n",
    "                C[j,i] = C[j,i-1]\n",
    "                I[j,i] = (j,i-1)\n",
    "            end\n",
    "        end\n",
    "    end\n",
    "    return C,I,L\n",
    "end"
   ]
  },
  {
   "cell_type": "markdown",
   "id": "5f3ac0b2",
   "metadata": {},
   "source": [
    "**Calcul de la matrice**"
   ]
  },
  {
   "cell_type": "code",
   "execution_count": 141,
   "id": "3e14855f",
   "metadata": {},
   "outputs": [
    {
     "data": {
      "text/plain": [
       "4-element Vector{Int64}:\n",
       " 7\n",
       " 4\n",
       " 3\n",
       " 5"
      ]
     },
     "execution_count": 141,
     "metadata": {},
     "output_type": "execute_result"
    }
   ],
   "source": [
    "n = 4\n",
    "Q = 10\n",
    "C = zeros(Int8, Q+1,n+1);\n",
    "vi = [42,40,12,25]\n",
    "wi = [7,4,3,5]"
   ]
  },
  {
   "cell_type": "code",
   "execution_count": 144,
   "id": "be3b6aa3",
   "metadata": {},
   "outputs": [
    {
     "data": {
      "text/plain": [
       "11×5 Matrix{Int8}:\n",
       " 0   0   0   0   0\n",
       " 0   0   0   0   0\n",
       " 0   0   0   0   0\n",
       " 0   0   0  12  12\n",
       " 0   0  40  40  40\n",
       " 0   0  40  40  40\n",
       " 0   0  40  40  40\n",
       " 0  42  42  52  52\n",
       " 0  42  42  52  52\n",
       " 0  42  42  52  65\n",
       " 0  42  42  54  65"
      ]
     },
     "execution_count": 144,
     "metadata": {},
     "output_type": "execute_result"
    }
   ],
   "source": [
    "C,I,J = calcul(vi,wi,C)\n",
    "C"
   ]
  },
  {
   "cell_type": "code",
   "execution_count": 145,
   "id": "ecf7947d",
   "metadata": {},
   "outputs": [
    {
     "data": {
      "text/plain": [
       "11×5 Matrix{Tuple{Int64, Int64}}:\n",
       " (0, 0)  (1, 1)  (1, 2)   (1, 3)  (1, 4)\n",
       " (0, 0)  (2, 1)  (2, 2)   (2, 3)  (2, 4)\n",
       " (0, 0)  (3, 1)  (3, 2)   (3, 3)  (3, 4)\n",
       " (0, 0)  (4, 1)  (4, 2)   (1, 3)  (4, 4)\n",
       " (0, 0)  (5, 1)  (1, 2)   (5, 3)  (5, 4)\n",
       " (0, 0)  (6, 1)  (2, 2)   (6, 3)  (6, 4)\n",
       " (0, 0)  (7, 1)  (3, 2)   (7, 3)  (7, 4)\n",
       " (0, 0)  (1, 1)  (8, 2)   (5, 3)  (8, 4)\n",
       " (0, 0)  (2, 1)  (9, 2)   (6, 3)  (9, 4)\n",
       " (0, 0)  (3, 1)  (10, 2)  (7, 3)  (5, 4)\n",
       " (0, 0)  (4, 1)  (11, 2)  (8, 3)  (6, 4)"
      ]
     },
     "execution_count": 145,
     "metadata": {},
     "output_type": "execute_result"
    }
   ],
   "source": [
    "I"
   ]
  },
  {
   "cell_type": "code",
   "execution_count": 146,
   "id": "5cb3dd01",
   "metadata": {},
   "outputs": [
    {
     "data": {
      "text/plain": [
       "11×5 Matrix{Vector{Int64}}:\n",
       " [1, 1, 1, 1]  [1, 1, 1, 1]  [1, 1, 1, 1]  [1, 1, 1, 1]  [1, 1, 1, 1]\n",
       " [1, 1, 1, 1]  [1, 1, 1, 1]  [1, 1, 1, 1]  [1, 1, 1, 1]  [1, 1, 1, 1]\n",
       " [1, 1, 1, 1]  [1, 1, 1, 1]  [1, 1, 1, 1]  [1, 1, 1, 1]  [1, 1, 1, 1]\n",
       " [1, 1, 1, 1]  [1, 1, 1, 1]  [1, 1, 1, 1]  [2, 2, 2, 0]  [1, 1, 1, 1]\n",
       " [1, 1, 1, 1]  [1, 1, 1, 1]  [2, 2, 0, 0]  [1, 1, 1, 1]  [1, 1, 1, 1]\n",
       " [1, 1, 1, 1]  [1, 1, 1, 1]  [2, 2, 0, 0]  [1, 1, 1, 1]  [1, 1, 1, 1]\n",
       " [1, 1, 1, 1]  [1, 1, 1, 1]  [2, 2, 0, 0]  [1, 1, 1, 1]  [1, 1, 1, 1]\n",
       " [1, 1, 1, 1]  [2, 0, 0, 0]  [1, 1, 1, 1]  [2, 2, 2, 0]  [1, 1, 1, 1]\n",
       " [1, 1, 1, 1]  [2, 0, 0, 0]  [1, 1, 1, 1]  [2, 2, 2, 0]  [1, 1, 1, 1]\n",
       " [1, 1, 1, 1]  [2, 0, 0, 0]  [1, 1, 1, 1]  [2, 2, 2, 0]  [3, 3, 3, 1]\n",
       " [1, 1, 1, 1]  [2, 0, 0, 0]  [1, 1, 1, 1]  [2, 2, 2, 0]  [3, 3, 3, 1]"
      ]
     },
     "execution_count": 146,
     "metadata": {},
     "output_type": "execute_result"
    }
   ],
   "source": [
    "J"
   ]
  },
  {
   "cell_type": "code",
   "execution_count": null,
   "id": "f76e6e41",
   "metadata": {},
   "outputs": [],
   "source": []
  }
 ],
 "metadata": {
  "kernelspec": {
   "display_name": "Julia 1.8.2 - N7",
   "language": "julia",
   "name": "julia-1.8-n7"
  },
  "language_info": {
   "file_extension": ".jl",
   "mimetype": "application/julia",
   "name": "julia",
   "version": "1.8.2"
  }
 },
 "nbformat": 4,
 "nbformat_minor": 5
}
