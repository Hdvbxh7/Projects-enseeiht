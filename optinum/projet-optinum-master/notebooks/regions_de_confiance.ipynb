{
 "cells": [
  {
   "cell_type": "markdown",
   "metadata": {},
   "source": [
    "<center>\n",
    "<h1> TP-Projet d'optimisation numérique </h1>\n",
    "<h1> Algorithme des régions de confiance </h1>\n",
    "</center>"
   ]
  },
  {
   "cell_type": "markdown",
   "metadata": {},
   "source": [
    "# Régions de confiance avec Pas de Cauchy \n",
    "\n",
    "## Implémentation \n",
    "\n",
    "1. Coder l'algorithme du pas de Cauchy dans le fichier `src/cauchy.jl`). La spécification de cet algorithme est donnée dans le fichier.\n",
    "2. Ecrire des tests exhaustifs (qui testent tous les cas de figure possibles) pour votre algorithme du pas de Cauchy. Vous remplirez pour cela le fichier `test/tester_cauchy.jl` sur le modèle des autres fichiers de tests et vous exécuterez dans la cellule de code ci-après ces tests."
   ]
  },
  {
   "cell_type": "code",
   "execution_count": 1,
   "metadata": {},
   "outputs": [
    {
     "name": "stdout",
     "output_type": "stream",
     "text": [
      "Pas de Cauchy: \u001b[91m\u001b[1mTest Failed\u001b[22m\u001b[39m at \u001b[39m\u001b[1m/home/tgz8009/projetmaj/Projects-enseeiht/optinum/projet-optinum-master/test/tester_cauchy.jl:32\u001b[22m\n",
      "  Expression: ≈(s, [1.9059020876695578; -2.3167946029410595], atol = tol_test)\n",
      "   Evaluated: [-0.19548872180451124, -0.29323308270676685] ≈ [1.9059020876695578, -2.3167946029410595] (atol=0.001)\n",
      "Stacktrace:\n",
      " [1] \u001b[0m\u001b[1mmacro expansion\u001b[22m\n",
      "\u001b[90m   @ \u001b[39m\u001b[90m/mnt/n7fs/ens/tp_cots/julia-1.8.2/share/julia/stdlib/v1.8/Test/src/\u001b[39m\u001b[90m\u001b[4mTest.jl:464\u001b[24m\u001b[39m\u001b[90m [inlined]\u001b[39m\n",
      " [2] \u001b[0m\u001b[1mmacro expansion\u001b[22m\n",
      "\u001b[90m   @ \u001b[39m\u001b[90m~/projetmaj/Projects-enseeiht/optinum/projet-optinum-master/test/\u001b[39m\u001b[90m\u001b[4mtester_cauchy.jl:32\u001b[24m\u001b[39m\u001b[90m [inlined]\u001b[39m\n",
      " [3] \u001b[0m\u001b[1mmacro expansion\u001b[22m\n",
      "\u001b[90m   @ \u001b[39m\u001b[90m/mnt/n7fs/ens/tp_cots/julia-1.8.2/share/julia/stdlib/v1.8/Test/src/\u001b[39m\u001b[90m\u001b[4mTest.jl:1357\u001b[24m\u001b[39m\u001b[90m [inlined]\u001b[39m\n",
      " [4] \u001b[0m\u001b[1mtester_cauchy\u001b[22m\u001b[0m\u001b[1m(\u001b[22m\u001b[90mcauchy\u001b[39m::\u001b[0mtypeof(cauchy)\u001b[0m\u001b[1m)\u001b[22m\n",
      "\u001b[90m   @ \u001b[39m\u001b[35mMain\u001b[39m \u001b[90m~/projetmaj/Projects-enseeiht/optinum/projet-optinum-master/test/\u001b[39m\u001b[90m\u001b[4mtester_cauchy.jl:11\u001b[24m\u001b[39m\n",
      "\u001b[0m\u001b[1mTest Summary: | \u001b[22m\u001b[32m\u001b[1mPass  \u001b[22m\u001b[39m\u001b[91m\u001b[1mFail  \u001b[22m\u001b[39m\u001b[36m\u001b[1mTotal  \u001b[22m\u001b[39m\u001b[0m\u001b[1mTime\u001b[22m\n",
      "Pas de Cauchy | \u001b[32m   3  \u001b[39m\u001b[91m   1  \u001b[39m\u001b[36m    4  \u001b[39m\u001b[0m1.1s\n"
     ]
    },
    {
     "ename": "LoadError",
     "evalue": "\u001b[91mSome tests did not pass: 3 passed, 1 failed, 0 errored, 0 broken.\u001b[39m",
     "output_type": "error",
     "traceback": [
      "\u001b[91mSome tests did not pass: 3 passed, 1 failed, 0 errored, 0 broken.\u001b[39m",
      "",
      "Stacktrace:",
      " [1] finish(ts::Test.DefaultTestSet)",
      "   @ Test /mnt/n7fs/ens/tp_cots/julia-1.8.2/share/julia/stdlib/v1.8/Test/src/Test.jl:1092",
      " [2] macro expansion",
      "   @ /mnt/n7fs/ens/tp_cots/julia-1.8.2/share/julia/stdlib/v1.8/Test/src/Test.jl:1368 [inlined]",
      " [3] tester_cauchy(cauchy::typeof(cauchy))",
      "   @ Main ~/projetmaj/Projects-enseeiht/optinum/projet-optinum-master/test/tester_cauchy.jl:11",
      " [4] top-level scope",
      "   @ In[1]:5"
     ]
    }
   ],
   "source": [
    "include(\"../src/cauchy.jl\")         # votre algorithme\n",
    "include(\"../test/tester_cauchy.jl\") # la fonction pour tester votre algorithme\n",
    "\n",
    "#\n",
    "tester_cauchy(cauchy); # tester l'algorithme"
   ]
  },
  {
   "cell_type": "markdown",
   "metadata": {},
   "source": [
    "3. Coder l'algorithme des régions de confiance (fichier `src/regions_de_confiance.jl`). Sa spécification est donnée dans le fichier.\n",
    "4. Vérifier que les tests ci-dessous passent."
   ]
  },
  {
   "cell_type": "code",
   "execution_count": 2,
   "metadata": {},
   "outputs": [
    {
     "name": "stdout",
     "output_type": "stream",
     "text": [
      "Affichage des résultats des algorithmes : true\n",
      "\n",
      "-------------------------------------------------------------------------\n",
      "\u001b[34m\u001b[1mRésultats de : RC et cauchy appliqué à f1:\u001b[22m\u001b[39m\n",
      "  * x0       = [1, 0, 0]\n",
      "  * x_sol    = [1.0000065049853921, 1.000000873235793, 0.9999952414861938]\n",
      "  * f(x_sol) = 7.71589405988668e-11\n",
      "  * nb_iters = 33\n",
      "  * flag     = 2\n",
      "  * solution = [1, 1, 1]\n",
      "-------------------------------------------------------------------------\n",
      "\u001b[34m\u001b[1mRésultats de : RC et cauchy appliqué à f1:\u001b[22m\u001b[39m\n",
      "  * x0       = [10.0, 3.0, -2.2]\n",
      "  * x_sol    = [1.000003643199092, 0.9999997146801121, 0.9999957861612833]\n",
      "  * f(x_sol) = 3.233185493810428e-11\n",
      "  * nb_iters = 34\n",
      "  * flag     = 2\n",
      "  * solution = [1, 1, 1]\n",
      "-------------------------------------------------------------------------\n",
      "\u001b[34m\u001b[1mRésultats de : RC et cauchy appliqué à f2:\u001b[22m\u001b[39m\n",
      "  * x0       = [-1.2, 1.0]\n",
      "  * x_sol    = [0.999352919780472, 0.9987042941117394]\n",
      "  * f(x_sol) = 4.19098603746544e-7\n",
      "  * nb_iters = 5000\n",
      "  * flag     = 3\n",
      "  * solution = [1, 1]\n",
      "-------------------------------------------------------------------------\n",
      "\u001b[34m\u001b[1mRésultats de : RC et cauchy appliqué à f2:\u001b[22m\u001b[39m\n",
      "  * x0       = [10, 0]\n",
      "  * x_sol    = [0.9961677295959247, 0.9923393628794702]\n",
      "  * f(x_sol) = 1.4697922915267688e-5\n",
      "  * nb_iters = 864\n",
      "  * flag     = 0\n",
      "  * solution = [1, 1]\n",
      "-------------------------------------------------------------------------\n",
      "\u001b[34m\u001b[1mRésultats de : RC et cauchy appliqué à f2:\u001b[22m\u001b[39m\n",
      "  * x0       = [0.0, 0.005000000000000001]\n",
      "  * x_sol    = [0.9998396449224052, 0.9996777929517464]\n",
      "  * f(x_sol) = 2.5945584061704288e-8\n",
      "  * nb_iters = 4512\n",
      "  * flag     = 2\n",
      "  * solution = [1, 1]\n",
      "\u001b[0m\u001b[1mTest Summary:        | \u001b[22m\u001b[32m\u001b[1mPass  \u001b[22m\u001b[39m\u001b[36m\u001b[1mTotal  \u001b[22m\u001b[39m\u001b[0m\u001b[1mTime\u001b[22m\n",
      "RC et pas de Cauchy  | \u001b[32m  15  \u001b[39m\u001b[36m   15  \u001b[39m\u001b[0m1.0s\n"
     ]
    }
   ],
   "source": [
    "include(\"../src/regions_de_confiance.jl\")\n",
    "include(\"../test/tester_rc_cauchy.jl\")\n",
    "\n",
    "#\n",
    "afficher = true # si true, alors affiche les résultats des algorithmes\n",
    "\n",
    "#\n",
    "tester_rc_cauchy(regions_de_confiance, afficher);"
   ]
  },
  {
   "cell_type": "markdown",
   "metadata": {},
   "source": [
    "## Interprétation \n",
    "\n",
    "<!-- Pour ces questions, des représentations graphiques sont attendues pour corroborer vos réponses. -->\n",
    "\n",
    "1. Soit la fonction $f_1 \\colon \\mathbb{R}^3 \\to \\mathbb{R}$ définie par\n",
    "$$ \n",
    "    f_1(x_1,x_2, x_3) = 2 (x_1 +x_2 + x_3 -3)^2 + (x_1-x_2)^2 + (x_2 - x_3)^2\n",
    "$$ \n",
    "Quelle relation lie la fonction $f_1$ et son modèle de Taylor à l’ordre 2 ? Comparer alors les performances de l'algorithme de Newton et celui des régions de confiance avec le pas de Cauchy sur cette fonction.\n",
    "\n",
    "2. Le rayon initial de la région de confiance est un paramètre important dans l’analyse\n",
    "de la performance de l’algorithme. Sur quel(s) autre(s) paramètre(s) peut-on jouer\n",
    "pour essayer d’améliorer cette performance ? Étudier l’influence d’au moins deux de\n",
    "ces paramètres. Pour cela vous ferez des tests numériques et donnerez les résultats sous forme de tableaux et de graphiques."
   ]
  },
  {
   "cell_type": "code",
   "execution_count": 31,
   "metadata": {
    "scrolled": true
   },
   "outputs": [
    {
     "data": {
      "text/plain": [
       "2-element Vector{Float64}:\n",
       " -1.1384199576606164\n",
       " -0.3794733192202055"
      ]
     },
     "execution_count": 31,
     "metadata": {},
     "output_type": "execute_result"
    }
   ],
   "source": [
    "# Expérimentations numériques à faire ici\n",
    "# Vous pouvez utiliser le package Plots pour les affichages de courbes:\n",
    "\n",
    "#using Plots\n"
   ]
  },
  {
   "cell_type": "markdown",
   "metadata": {},
   "source": [
    "# Régions de confiance avec gradient conjugué tronqué\n",
    "\n",
    "## Implémentation \n",
    "\n",
    "1. Implémenter l’algorithme du gradient conjugué tronqué (fichier `src/gct.jl`). Sa spécification est dans le fichier.\n",
    "2. Vérifier que les tests ci-dessous passent."
   ]
  },
  {
   "cell_type": "code",
   "execution_count": 20,
   "metadata": {},
   "outputs": [
    {
     "name": "stdout",
     "output_type": "stream",
     "text": [
      "\u001b[0m\u001b[1mTest Summary:             | \u001b[22m\u001b[32m\u001b[1mPass  \u001b[22m\u001b[39m\u001b[36m\u001b[1mTotal  \u001b[22m\u001b[39m\u001b[0m\u001b[1mTime\u001b[22m\n",
      "Gradient conjugué tronqué | \u001b[32m   9  \u001b[39m\u001b[36m    9  \u001b[39m\u001b[0m0.0s\n"
     ]
    }
   ],
   "source": [
    "include(\"../src/gct.jl\")\n",
    "include(\"../test/tester_gct.jl\")\n",
    "\n",
    "#\n",
    "tester_gct(gct);"
   ]
  },
  {
   "cell_type": "markdown",
   "metadata": {},
   "source": [
    "3. Intégrer l’algorithme du gradient conjugué tronqué dans le code des régions de confiance.\n",
    "4. Vérifier que les tests ci-dessous passent."
   ]
  },
  {
   "cell_type": "code",
   "execution_count": 27,
   "metadata": {},
   "outputs": [
    {
     "name": "stdout",
     "output_type": "stream",
     "text": [
      "Affichage des résultats des algorithmes : false\n",
      "\n",
      "\u001b[0m\u001b[1mTest Summary: | \u001b[22m\u001b[32m\u001b[1mPass  \u001b[22m\u001b[39m\u001b[36m\u001b[1mTotal  \u001b[22m\u001b[39m\u001b[0m\u001b[1mTime\u001b[22m\n",
      "RC et gct     | \u001b[32m  15  \u001b[39m\u001b[36m   15  \u001b[39m\u001b[0m0.4s\n"
     ]
    }
   ],
   "source": [
    "include(\"../src/regions_de_confiance.jl\")\n",
    "include(\"../test/tester_rc_gct.jl\")\n",
    "\n",
    "#\n",
    "afficher = false # si true, alors affiche les résultats des algorithmes\n",
    "\n",
    "#\n",
    "tester_rc_gct(regions_de_confiance, afficher);"
   ]
  },
  {
   "cell_type": "markdown",
   "metadata": {},
   "source": [
    "## Interprétation  \n",
    "\n",
    "Nous proposons de comparer l'utilisation du pas de Cauchy avec celle du gradient conjugué tronqué dans l'algorithme des régions de confiance.\n",
    "\n",
    "**Remarques.**\n",
    "* Nous vous demandons de réaliser des expérimentations numériques pour les comparaisons demandées ci-après.\n",
    "* Vous devez utiliser l'argument optionnel `max_iter_gct` et la sortie `xs` de l'algorithme des régions de confiance.\n",
    "* Vous pouvez comparer l'écart en norme entre les itérés de l'algorithme et la solution du problème.\n",
    "* Vous trouverez des choses utiles dans le fichier `test/fonctions_de_tests.jl`.\n",
    "\n",
    "1. Comparer dans le cas où l'on force le gradient conjugué tronqué à ne faire qu'une seule itération. Que remarquez vous ?\n",
    "2. Comparer dans le cas général. Que remarquez vous ?\n",
    "3. Quels sont les avantages et inconvénients des deux approches ?"
   ]
  },
  {
   "cell_type": "code",
   "execution_count": null,
   "metadata": {},
   "outputs": [],
   "source": [
    "# Expérimentations numériques à faire ici.\n",
    "# Vous pouvez utiliser le package Plots pour les affichages de courbes: using Plots"
   ]
  }
 ],
 "metadata": {
  "kernelspec": {
   "display_name": "Julia 1.8.2 - N7",
   "language": "julia",
   "name": "julia-1.8-n7"
  },
  "language_info": {
   "file_extension": ".jl",
   "mimetype": "application/julia",
   "name": "julia",
   "version": "1.8.2"
  }
 },
 "nbformat": 4,
 "nbformat_minor": 4
}
